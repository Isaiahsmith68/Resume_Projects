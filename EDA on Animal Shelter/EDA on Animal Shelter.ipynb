{
 "cells": [
  {
   "cell_type": "markdown",
   "metadata": {},
   "source": [
    "# Exploratory Data Analysis on Animal Shelter Dataset\n",
    "---"
   ]
  },
  {
   "cell_type": "markdown",
   "metadata": {},
   "source": [
    "### Please read README file before to understand the dataset!\n",
    "---"
   ]
  },
  {
   "cell_type": "code",
   "execution_count": 3,
   "metadata": {},
   "outputs": [],
   "source": [
    "# importing necessary libraries \n",
    "import pandas as pd \n",
    "import numpy as np\n",
    "\n",
    "# loading in the datasets\n",
    "intakes_df = pd.read_csv('Austin_Animal_Center_Intakes.csv', index_col= 'Animal ID')\n",
    "outcomes_df = pd.read_csv('Austin_Animal_Center_Outcomes.csv', index_col= 'Animal ID')\n",
    "\n",
    "\n",
    "\n"
   ]
  },
  {
   "cell_type": "markdown",
   "metadata": {},
   "source": [
    "### Lets learn a little bit about our first dataset (intakes)\n",
    "---"
   ]
  },
  {
   "cell_type": "code",
   "execution_count": 4,
   "metadata": {},
   "outputs": [
    {
     "data": {
      "text/html": [
       "<div>\n",
       "<style scoped>\n",
       "    .dataframe tbody tr th:only-of-type {\n",
       "        vertical-align: middle;\n",
       "    }\n",
       "\n",
       "    .dataframe tbody tr th {\n",
       "        vertical-align: top;\n",
       "    }\n",
       "\n",
       "    .dataframe thead th {\n",
       "        text-align: right;\n",
       "    }\n",
       "</style>\n",
       "<table border=\"1\" class=\"dataframe\">\n",
       "  <thead>\n",
       "    <tr style=\"text-align: right;\">\n",
       "      <th></th>\n",
       "      <th>Name</th>\n",
       "      <th>DateTime</th>\n",
       "      <th>MonthYear</th>\n",
       "      <th>Found Location</th>\n",
       "      <th>Intake Type</th>\n",
       "      <th>Intake Condition</th>\n",
       "      <th>Animal Type</th>\n",
       "      <th>Sex upon Intake</th>\n",
       "      <th>Age upon Intake</th>\n",
       "      <th>Breed</th>\n",
       "      <th>Color</th>\n",
       "    </tr>\n",
       "    <tr>\n",
       "      <th>Animal ID</th>\n",
       "      <th></th>\n",
       "      <th></th>\n",
       "      <th></th>\n",
       "      <th></th>\n",
       "      <th></th>\n",
       "      <th></th>\n",
       "      <th></th>\n",
       "      <th></th>\n",
       "      <th></th>\n",
       "      <th></th>\n",
       "      <th></th>\n",
       "    </tr>\n",
       "  </thead>\n",
       "  <tbody>\n",
       "    <tr>\n",
       "      <th>A786884</th>\n",
       "      <td>*Brock</td>\n",
       "      <td>01/03/2019 04:19:00 PM</td>\n",
       "      <td>01/03/2019 04:19:00 PM</td>\n",
       "      <td>2501 Magin Meadow Dr in Austin (TX)</td>\n",
       "      <td>Stray</td>\n",
       "      <td>Normal</td>\n",
       "      <td>Dog</td>\n",
       "      <td>Neutered Male</td>\n",
       "      <td>2 years</td>\n",
       "      <td>Beagle Mix</td>\n",
       "      <td>Tricolor</td>\n",
       "    </tr>\n",
       "    <tr>\n",
       "      <th>A706918</th>\n",
       "      <td>Belle</td>\n",
       "      <td>07/05/2015 12:59:00 PM</td>\n",
       "      <td>07/05/2015 12:59:00 PM</td>\n",
       "      <td>9409 Bluegrass Dr in Austin (TX)</td>\n",
       "      <td>Stray</td>\n",
       "      <td>Normal</td>\n",
       "      <td>Dog</td>\n",
       "      <td>Spayed Female</td>\n",
       "      <td>8 years</td>\n",
       "      <td>English Springer Spaniel</td>\n",
       "      <td>White/Liver</td>\n",
       "    </tr>\n",
       "    <tr>\n",
       "      <th>A724273</th>\n",
       "      <td>Runster</td>\n",
       "      <td>04/14/2016 06:43:00 PM</td>\n",
       "      <td>04/14/2016 06:43:00 PM</td>\n",
       "      <td>2818 Palomino Trail in Austin (TX)</td>\n",
       "      <td>Stray</td>\n",
       "      <td>Normal</td>\n",
       "      <td>Dog</td>\n",
       "      <td>Intact Male</td>\n",
       "      <td>11 months</td>\n",
       "      <td>Basenji Mix</td>\n",
       "      <td>Sable/White</td>\n",
       "    </tr>\n",
       "    <tr>\n",
       "      <th>A665644</th>\n",
       "      <td>NaN</td>\n",
       "      <td>10/21/2013 07:59:00 AM</td>\n",
       "      <td>10/21/2013 07:59:00 AM</td>\n",
       "      <td>Austin (TX)</td>\n",
       "      <td>Stray</td>\n",
       "      <td>Sick</td>\n",
       "      <td>Cat</td>\n",
       "      <td>Intact Female</td>\n",
       "      <td>4 weeks</td>\n",
       "      <td>Domestic Shorthair Mix</td>\n",
       "      <td>Calico</td>\n",
       "    </tr>\n",
       "    <tr>\n",
       "      <th>A682524</th>\n",
       "      <td>Rio</td>\n",
       "      <td>06/29/2014 10:38:00 AM</td>\n",
       "      <td>06/29/2014 10:38:00 AM</td>\n",
       "      <td>800 Grove Blvd in Austin (TX)</td>\n",
       "      <td>Stray</td>\n",
       "      <td>Normal</td>\n",
       "      <td>Dog</td>\n",
       "      <td>Neutered Male</td>\n",
       "      <td>4 years</td>\n",
       "      <td>Doberman Pinsch/Australian Cattle Dog</td>\n",
       "      <td>Tan/Gray</td>\n",
       "    </tr>\n",
       "  </tbody>\n",
       "</table>\n",
       "</div>"
      ],
      "text/plain": [
       "              Name                DateTime               MonthYear  \\\n",
       "Animal ID                                                            \n",
       "A786884     *Brock  01/03/2019 04:19:00 PM  01/03/2019 04:19:00 PM   \n",
       "A706918      Belle  07/05/2015 12:59:00 PM  07/05/2015 12:59:00 PM   \n",
       "A724273    Runster  04/14/2016 06:43:00 PM  04/14/2016 06:43:00 PM   \n",
       "A665644        NaN  10/21/2013 07:59:00 AM  10/21/2013 07:59:00 AM   \n",
       "A682524        Rio  06/29/2014 10:38:00 AM  06/29/2014 10:38:00 AM   \n",
       "\n",
       "                                Found Location Intake Type Intake Condition  \\\n",
       "Animal ID                                                                     \n",
       "A786884    2501 Magin Meadow Dr in Austin (TX)       Stray           Normal   \n",
       "A706918       9409 Bluegrass Dr in Austin (TX)       Stray           Normal   \n",
       "A724273     2818 Palomino Trail in Austin (TX)       Stray           Normal   \n",
       "A665644                            Austin (TX)       Stray             Sick   \n",
       "A682524          800 Grove Blvd in Austin (TX)       Stray           Normal   \n",
       "\n",
       "          Animal Type Sex upon Intake Age upon Intake  \\\n",
       "Animal ID                                               \n",
       "A786884           Dog   Neutered Male         2 years   \n",
       "A706918           Dog   Spayed Female         8 years   \n",
       "A724273           Dog     Intact Male       11 months   \n",
       "A665644           Cat   Intact Female         4 weeks   \n",
       "A682524           Dog   Neutered Male         4 years   \n",
       "\n",
       "                                           Breed        Color  \n",
       "Animal ID                                                      \n",
       "A786884                               Beagle Mix     Tricolor  \n",
       "A706918                 English Springer Spaniel  White/Liver  \n",
       "A724273                              Basenji Mix  Sable/White  \n",
       "A665644                   Domestic Shorthair Mix       Calico  \n",
       "A682524    Doberman Pinsch/Australian Cattle Dog     Tan/Gray  "
      ]
     },
     "execution_count": 4,
     "metadata": {},
     "output_type": "execute_result"
    }
   ],
   "source": [
    "intakes_df.head() # making sure dataset was loaded in correctly\n"
   ]
  },
  {
   "cell_type": "code",
   "execution_count": 9,
   "metadata": {},
   "outputs": [
    {
     "data": {
      "text/plain": [
       "(124120, 11)"
      ]
     },
     "execution_count": 9,
     "metadata": {},
     "output_type": "execute_result"
    }
   ],
   "source": [
    "intakes_df.shape # viewing how many rows and columns we have in our df"
   ]
  },
  {
   "cell_type": "code",
   "execution_count": 11,
   "metadata": {},
   "outputs": [
    {
     "name": "stdout",
     "output_type": "stream",
     "text": [
      "<class 'pandas.core.frame.DataFrame'>\n",
      "Index: 124120 entries, A786884 to A830181\n",
      "Data columns (total 11 columns):\n",
      " #   Column            Non-Null Count   Dtype \n",
      "---  ------            --------------   ----- \n",
      " 0   Name              85069 non-null   object\n",
      " 1   DateTime          124120 non-null  object\n",
      " 2   MonthYear         124120 non-null  object\n",
      " 3   Found Location    124120 non-null  object\n",
      " 4   Intake Type       124120 non-null  object\n",
      " 5   Intake Condition  124120 non-null  object\n",
      " 6   Animal Type       124120 non-null  object\n",
      " 7   Sex upon Intake   124119 non-null  object\n",
      " 8   Age upon Intake   124120 non-null  object\n",
      " 9   Breed             124120 non-null  object\n",
      " 10  Color             124120 non-null  object\n",
      "dtypes: object(11)\n",
      "memory usage: 11.4+ MB\n"
     ]
    }
   ],
   "source": [
    "intakes_df.info() # looking at the datatypes and non-null counts of each column"
   ]
  },
  {
   "cell_type": "code",
   "execution_count": 18,
   "metadata": {},
   "outputs": [
    {
     "data": {
      "text/plain": [
       "Name                39051\n",
       "DateTime                0\n",
       "MonthYear               0\n",
       "Found Location          0\n",
       "Intake Type             0\n",
       "Intake Condition        0\n",
       "Animal Type             0\n",
       "Sex upon Intake         1\n",
       "Age upon Intake         0\n",
       "Breed                   0\n",
       "Color                   0\n",
       "dtype: int64"
      ]
     },
     "execution_count": 18,
     "metadata": {},
     "output_type": "execute_result"
    }
   ],
   "source": [
    "intakes_df.isnull().sum() # a nicer way to look at null values"
   ]
  },
  {
   "cell_type": "markdown",
   "metadata": {},
   "source": [
    "### Step 1: Cleaning up the data\n",
    "---"
   ]
  },
  {
   "cell_type": "code",
   "execution_count": 32,
   "metadata": {},
   "outputs": [
    {
     "data": {
      "text/plain": [
       "6424"
      ]
     },
     "execution_count": 32,
     "metadata": {},
     "output_type": "execute_result"
    }
   ],
   "source": [
    "# checking if any duplicate rows that we can delete \n",
    "intakes_df.duplicated(keep=False).sum()"
   ]
  },
  {
   "cell_type": "code",
   "execution_count": 34,
   "metadata": {},
   "outputs": [],
   "source": [
    "intakes_df.drop_duplicates(inplace=True) # dropping duplicate rows"
   ]
  },
  {
   "cell_type": "code",
   "execution_count": 25,
   "metadata": {},
   "outputs": [
    {
     "data": {
      "text/html": [
       "<div>\n",
       "<style scoped>\n",
       "    .dataframe tbody tr th:only-of-type {\n",
       "        vertical-align: middle;\n",
       "    }\n",
       "\n",
       "    .dataframe tbody tr th {\n",
       "        vertical-align: top;\n",
       "    }\n",
       "\n",
       "    .dataframe thead th {\n",
       "        text-align: right;\n",
       "    }\n",
       "</style>\n",
       "<table border=\"1\" class=\"dataframe\">\n",
       "  <thead>\n",
       "    <tr style=\"text-align: right;\">\n",
       "      <th></th>\n",
       "      <th>Name</th>\n",
       "      <th>DateTime</th>\n",
       "      <th>MonthYear</th>\n",
       "      <th>Found Location</th>\n",
       "      <th>Intake Type</th>\n",
       "      <th>Intake Condition</th>\n",
       "      <th>Animal Type</th>\n",
       "      <th>Sex upon Intake</th>\n",
       "      <th>Age upon Intake</th>\n",
       "      <th>Breed</th>\n",
       "      <th>Color</th>\n",
       "    </tr>\n",
       "    <tr>\n",
       "      <th>Animal ID</th>\n",
       "      <th></th>\n",
       "      <th></th>\n",
       "      <th></th>\n",
       "      <th></th>\n",
       "      <th></th>\n",
       "      <th></th>\n",
       "      <th></th>\n",
       "      <th></th>\n",
       "      <th></th>\n",
       "      <th></th>\n",
       "      <th></th>\n",
       "    </tr>\n",
       "  </thead>\n",
       "  <tbody>\n",
       "    <tr>\n",
       "      <th>A667395</th>\n",
       "      <td>Diego</td>\n",
       "      <td>11/17/2013 01:15:00 PM</td>\n",
       "      <td>11/17/2013 01:15:00 PM</td>\n",
       "      <td>Pflugerville (TX)</td>\n",
       "      <td>Owner Surrender</td>\n",
       "      <td>Normal</td>\n",
       "      <td>Dog</td>\n",
       "      <td>NaN</td>\n",
       "      <td>7 years</td>\n",
       "      <td>Dachshund</td>\n",
       "      <td>Brown Merle</td>\n",
       "    </tr>\n",
       "  </tbody>\n",
       "</table>\n",
       "</div>"
      ],
      "text/plain": [
       "            Name                DateTime               MonthYear  \\\n",
       "Animal ID                                                          \n",
       "A667395    Diego  11/17/2013 01:15:00 PM  11/17/2013 01:15:00 PM   \n",
       "\n",
       "              Found Location      Intake Type Intake Condition Animal Type  \\\n",
       "Animal ID                                                                    \n",
       "A667395    Pflugerville (TX)  Owner Surrender           Normal         Dog   \n",
       "\n",
       "          Sex upon Intake Age upon Intake      Breed        Color  \n",
       "Animal ID                                                          \n",
       "A667395               NaN         7 years  Dachshund  Brown Merle  "
      ]
     },
     "execution_count": 25,
     "metadata": {},
     "output_type": "execute_result"
    }
   ],
   "source": [
    "# Exploring the single null value in Sex upon Intake column\n",
    "filt = intakes_df['Sex upon Intake'].isnull() == True\n",
    "\n",
    "# Doesn't seem like we will need such column in our analysis so we can leave it\n",
    "intakes_df.loc[filt]"
   ]
  },
  {
   "cell_type": "code",
   "execution_count": 39,
   "metadata": {},
   "outputs": [
    {
     "data": {
      "text/html": [
       "<div>\n",
       "<style scoped>\n",
       "    .dataframe tbody tr th:only-of-type {\n",
       "        vertical-align: middle;\n",
       "    }\n",
       "\n",
       "    .dataframe tbody tr th {\n",
       "        vertical-align: top;\n",
       "    }\n",
       "\n",
       "    .dataframe thead th {\n",
       "        text-align: right;\n",
       "    }\n",
       "</style>\n",
       "<table border=\"1\" class=\"dataframe\">\n",
       "  <thead>\n",
       "    <tr style=\"text-align: right;\">\n",
       "      <th></th>\n",
       "      <th>DateTime</th>\n",
       "      <th>MonthYear</th>\n",
       "    </tr>\n",
       "    <tr>\n",
       "      <th>Animal ID</th>\n",
       "      <th></th>\n",
       "      <th></th>\n",
       "    </tr>\n",
       "  </thead>\n",
       "  <tbody>\n",
       "    <tr>\n",
       "      <th>A786884</th>\n",
       "      <td>01/03/2019 04:19:00 PM</td>\n",
       "      <td>01/03/2019 04:19:00 PM</td>\n",
       "    </tr>\n",
       "    <tr>\n",
       "      <th>A706918</th>\n",
       "      <td>07/05/2015 12:59:00 PM</td>\n",
       "      <td>07/05/2015 12:59:00 PM</td>\n",
       "    </tr>\n",
       "    <tr>\n",
       "      <th>A724273</th>\n",
       "      <td>04/14/2016 06:43:00 PM</td>\n",
       "      <td>04/14/2016 06:43:00 PM</td>\n",
       "    </tr>\n",
       "    <tr>\n",
       "      <th>A665644</th>\n",
       "      <td>10/21/2013 07:59:00 AM</td>\n",
       "      <td>10/21/2013 07:59:00 AM</td>\n",
       "    </tr>\n",
       "    <tr>\n",
       "      <th>A682524</th>\n",
       "      <td>06/29/2014 10:38:00 AM</td>\n",
       "      <td>06/29/2014 10:38:00 AM</td>\n",
       "    </tr>\n",
       "    <tr>\n",
       "      <th>A743852</th>\n",
       "      <td>02/18/2017 12:46:00 PM</td>\n",
       "      <td>02/18/2017 12:46:00 PM</td>\n",
       "    </tr>\n",
       "    <tr>\n",
       "      <th>A635072</th>\n",
       "      <td>04/16/2019 09:53:00 AM</td>\n",
       "      <td>04/16/2019 09:53:00 AM</td>\n",
       "    </tr>\n",
       "    <tr>\n",
       "      <th>A708452</th>\n",
       "      <td>07/30/2015 02:37:00 PM</td>\n",
       "      <td>07/30/2015 02:37:00 PM</td>\n",
       "    </tr>\n",
       "    <tr>\n",
       "      <th>A818975</th>\n",
       "      <td>06/18/2020 02:53:00 PM</td>\n",
       "      <td>06/18/2020 02:53:00 PM</td>\n",
       "    </tr>\n",
       "    <tr>\n",
       "      <th>A774147</th>\n",
       "      <td>06/11/2018 07:45:00 AM</td>\n",
       "      <td>06/11/2018 07:45:00 AM</td>\n",
       "    </tr>\n",
       "    <tr>\n",
       "      <th>A731435</th>\n",
       "      <td>08/08/2016 05:52:00 PM</td>\n",
       "      <td>08/08/2016 05:52:00 PM</td>\n",
       "    </tr>\n",
       "    <tr>\n",
       "      <th>A760053</th>\n",
       "      <td>10/11/2017 03:46:00 PM</td>\n",
       "      <td>10/11/2017 03:46:00 PM</td>\n",
       "    </tr>\n",
       "    <tr>\n",
       "      <th>A707375</th>\n",
       "      <td>07/11/2015 06:19:00 PM</td>\n",
       "      <td>07/11/2015 06:19:00 PM</td>\n",
       "    </tr>\n",
       "    <tr>\n",
       "      <th>A696408</th>\n",
       "      <td>02/04/2015 12:58:00 PM</td>\n",
       "      <td>02/04/2015 12:58:00 PM</td>\n",
       "    </tr>\n",
       "    <tr>\n",
       "      <th>A790209</th>\n",
       "      <td>03/06/2019 02:31:00 PM</td>\n",
       "      <td>03/06/2019 02:31:00 PM</td>\n",
       "    </tr>\n",
       "    <tr>\n",
       "      <th>A743114</th>\n",
       "      <td>02/04/2017 10:10:00 AM</td>\n",
       "      <td>02/04/2017 10:10:00 AM</td>\n",
       "    </tr>\n",
       "    <tr>\n",
       "      <th>A657188</th>\n",
       "      <td>11/10/2013 05:19:00 PM</td>\n",
       "      <td>11/10/2013 05:19:00 PM</td>\n",
       "    </tr>\n",
       "    <tr>\n",
       "      <th>A783861</th>\n",
       "      <td>11/07/2018 03:53:00 PM</td>\n",
       "      <td>11/07/2018 03:53:00 PM</td>\n",
       "    </tr>\n",
       "    <tr>\n",
       "      <th>A707658</th>\n",
       "      <td>07/15/2015 05:43:00 PM</td>\n",
       "      <td>07/15/2015 05:43:00 PM</td>\n",
       "    </tr>\n",
       "    <tr>\n",
       "      <th>A736287</th>\n",
       "      <td>10/08/2016 11:53:00 AM</td>\n",
       "      <td>10/08/2016 11:53:00 AM</td>\n",
       "    </tr>\n",
       "  </tbody>\n",
       "</table>\n",
       "</div>"
      ],
      "text/plain": [
       "                         DateTime               MonthYear\n",
       "Animal ID                                                \n",
       "A786884    01/03/2019 04:19:00 PM  01/03/2019 04:19:00 PM\n",
       "A706918    07/05/2015 12:59:00 PM  07/05/2015 12:59:00 PM\n",
       "A724273    04/14/2016 06:43:00 PM  04/14/2016 06:43:00 PM\n",
       "A665644    10/21/2013 07:59:00 AM  10/21/2013 07:59:00 AM\n",
       "A682524    06/29/2014 10:38:00 AM  06/29/2014 10:38:00 AM\n",
       "A743852    02/18/2017 12:46:00 PM  02/18/2017 12:46:00 PM\n",
       "A635072    04/16/2019 09:53:00 AM  04/16/2019 09:53:00 AM\n",
       "A708452    07/30/2015 02:37:00 PM  07/30/2015 02:37:00 PM\n",
       "A818975    06/18/2020 02:53:00 PM  06/18/2020 02:53:00 PM\n",
       "A774147    06/11/2018 07:45:00 AM  06/11/2018 07:45:00 AM\n",
       "A731435    08/08/2016 05:52:00 PM  08/08/2016 05:52:00 PM\n",
       "A760053    10/11/2017 03:46:00 PM  10/11/2017 03:46:00 PM\n",
       "A707375    07/11/2015 06:19:00 PM  07/11/2015 06:19:00 PM\n",
       "A696408    02/04/2015 12:58:00 PM  02/04/2015 12:58:00 PM\n",
       "A790209    03/06/2019 02:31:00 PM  03/06/2019 02:31:00 PM\n",
       "A743114    02/04/2017 10:10:00 AM  02/04/2017 10:10:00 AM\n",
       "A657188    11/10/2013 05:19:00 PM  11/10/2013 05:19:00 PM\n",
       "A783861    11/07/2018 03:53:00 PM  11/07/2018 03:53:00 PM\n",
       "A707658    07/15/2015 05:43:00 PM  07/15/2015 05:43:00 PM\n",
       "A736287    10/08/2016 11:53:00 AM  10/08/2016 11:53:00 AM"
      ]
     },
     "execution_count": 39,
     "metadata": {},
     "output_type": "execute_result"
    }
   ],
   "source": [
    "# Datetime and MonthYear column look exactly the same so lets explore this more\n",
    "intakes_df[['DateTime', 'MonthYear']].head(20)"
   ]
  },
  {
   "cell_type": "code",
   "execution_count": null,
   "metadata": {},
   "outputs": [],
   "source": [
    "# drop MonthYear Column\n",
    "intakes_df.drop(columns='MonthYear', inplace=True)\n",
    "\n"
   ]
  },
  {
   "cell_type": "code",
   "execution_count": 47,
   "metadata": {},
   "outputs": [],
   "source": [
    "# we saw earlier that datetime column is an object\n",
    "# lets convert to datetime datatype so we can work with it more efficiently \n",
    "intakes_df['DateTime'] = pd.to_datetime(intakes_df['DateTime'], format = '%m/%d/%Y %I:%M:%S %p')"
   ]
  },
  {
   "cell_type": "code",
   "execution_count": 49,
   "metadata": {},
   "outputs": [
    {
     "data": {
      "text/plain": [
       "Animal ID\n",
       "A786884   2019-01-03 16:19:00\n",
       "A706918   2015-07-05 12:59:00\n",
       "A724273   2016-04-14 18:43:00\n",
       "A665644   2013-10-21 07:59:00\n",
       "A682524   2014-06-29 10:38:00\n",
       "                  ...        \n",
       "A828158   2021-01-08 19:01:00\n",
       "A830183   2021-03-03 17:12:00\n",
       "A830180   2021-03-03 16:31:00\n",
       "A830171   2021-03-03 17:13:00\n",
       "A830181   2021-03-03 16:31:00\n",
       "Name: DateTime, Length: 120296, dtype: datetime64[ns]"
      ]
     },
     "execution_count": 49,
     "metadata": {},
     "output_type": "execute_result"
    }
   ],
   "source": [
    "intakes_df['DateTime'] # can see dtype has changed "
   ]
  },
  {
   "cell_type": "code",
   "execution_count": 51,
   "metadata": {},
   "outputs": [],
   "source": [
    "# lets rename the column to something more clear\n",
    "intakes_df.rename(columns={'DateTime': 'Date of Intake'}, inplace=True)"
   ]
  },
  {
   "cell_type": "code",
   "execution_count": 58,
   "metadata": {},
   "outputs": [],
   "source": [
    "# lets deal will null values in name column\n",
    "intakes_df['Name'] = intakes_df['Name'].fillna('Unknown')\n"
   ]
  },
  {
   "cell_type": "markdown",
   "metadata": {},
   "source": [
    "### Now that our df is cleaned up we can start extracting some useful information\n",
    "\n",
    "#### Q1: What are the conditions animals are taken into the shelter? What method of intake is the most common?"
   ]
  },
  {
   "cell_type": "code",
   "execution_count": 60,
   "metadata": {},
   "outputs": [
    {
     "data": {
      "text/plain": [
       "Intake Condition\n",
       "Normal      104910\n",
       "Injured       6593\n",
       "Sick          4968\n",
       "Nursing       2910\n",
       "Aged           430\n",
       "Other          223\n",
       "Feral          102\n",
       "Pregnant        77\n",
       "Medical         63\n",
       "Behavior        20\n",
       "Name: count, dtype: int64"
      ]
     },
     "execution_count": 60,
     "metadata": {},
     "output_type": "execute_result"
    }
   ],
   "source": [
    "# counts of each unique condition\n",
    "intakes_df['Intake Condition'].value_counts()"
   ]
  },
  {
   "cell_type": "code",
   "execution_count": 225,
   "metadata": {},
   "outputs": [
    {
     "data": {
      "image/png": "[encoded data removed]",
      "text/plain": [
       "<Figure size 1000x600 with 1 Axes>"
      ]
     },
     "metadata": {},
     "output_type": "display_data"
    }
   ],
   "source": [
    "# lets showcase this in a more visually appealing way. I used a log scale because we have a very wide range of values on y axis and wanted to be able to display all of them\n",
    "import seaborn as sns\n",
    "import matplotlib.pyplot as plt\n",
    "\n",
    "sns.set(style=\"whitegrid\")\n",
    "\n",
    "plt.figure(figsize=(10, 6))\n",
    "ax = sns.countplot(x='Intake Condition', data=intakes_df, hue='Intake Condition', palette='viridis', dodge=False)\n",
    "\n",
    "plt.yscale('log')\n",
    "\n",
    "plt.xlabel('Intake Condition', fontsize=14)\n",
    "plt.ylabel('Count (log scale)', fontsize=14)\n",
    "plt.title('Intake Condition Distribution (log scale)', fontsize=16)\n",
    "\n",
    "ax.set_xticks(ax.get_xticks())\n",
    "ax.set_xticklabels(ax.get_xticklabels(), rotation=45, ha=\"right\")\n",
    "\n",
    "for p in ax.patches:\n",
    "    ax.annotate(f'{p.get_height()}', (p.get_x() + p.get_width() / 2., p.get_height()),\n",
    "                ha='center', va='baseline', fontsize=12, color='black')\n",
    "\n",
    "plt.tight_layout()\n",
    "plt.show()\n",
    "\n",
    "\n",
    "\n",
    "\n",
    "\n"
   ]
  },
  {
   "cell_type": "code",
   "execution_count": 226,
   "metadata": {},
   "outputs": [
    {
     "data": {
      "text/plain": [
       "Intake Type\n",
       "Stray                 83567\n",
       "Owner Surrender       24168\n",
       "Public Assist          7481\n",
       "Wildlife               4557\n",
       "Abandoned               266\n",
       "Euthanasia Request      257\n",
       "Name: count, dtype: int64"
      ]
     },
     "execution_count": 226,
     "metadata": {},
     "output_type": "execute_result"
    }
   ],
   "source": [
    "# most common intake methods \n",
    "intakes_df['Intake Type'].value_counts()"
   ]
  },
  {
   "cell_type": "code",
   "execution_count": 227,
   "metadata": {},
   "outputs": [
    {
     "data": {
      "image/png": "[encoded data removed]",
      "text/plain": [
       "<Figure size 640x480 with 1 Axes>"
      ]
     },
     "metadata": {},
     "output_type": "display_data"
    }
   ],
   "source": [
    "# example of what normal bar graph would look like with wide range of y values. Think log scale is more visually appealing.\n",
    "\n",
    "intakes_df['Intake Type'].value_counts().plot.bar()\n",
    "plt.xlabel('Intake Type')\n",
    "plt.ylabel('Count')\n",
    "plt.title('Intake Type Distribution')\n",
    "plt.tight_layout()\n",
    "plt.show()\n"
   ]
  },
  {
   "cell_type": "markdown",
   "metadata": {},
   "source": [
    "####  Q2: What are the intake conditions for each intake type?"
   ]
  },
  {
   "cell_type": "code",
   "execution_count": 196,
   "metadata": {},
   "outputs": [
    {
     "data": {
      "text/plain": [
       "Intake Type         Intake Condition\n",
       "Abandoned           Normal                225\n",
       "                    Nursing                23\n",
       "                    Sick                   11\n",
       "                    Medical                 4\n",
       "                    Injured                 3\n",
       "Euthanasia Request  Sick                  105\n",
       "                    Normal                 87\n",
       "                    Aged                   43\n",
       "                    Injured                20\n",
       "                    Other                   2\n",
       "Owner Surrender     Normal              22474\n",
       "                    Sick                  817\n",
       "                    Injured               462\n",
       "                    Nursing               231\n",
       "                    Aged                   94\n",
       "                    Other                  41\n",
       "                    Medical                16\n",
       "                    Pregnant               14\n",
       "                    Behavior               10\n",
       "                    Feral                   9\n",
       "Public Assist       Normal               6941\n",
       "                    Injured               173\n",
       "                    Sick                  171\n",
       "                    Nursing               105\n",
       "                    Other                  45\n",
       "                    Aged                   33\n",
       "                    Pregnant                6\n",
       "                    Behavior                4\n",
       "                    Feral                   3\n",
       "Stray               Normal              72810\n",
       "                    Injured              5094\n",
       "                    Sick                 2546\n",
       "                    Nursing              2532\n",
       "                    Aged                  259\n",
       "                    Other                 131\n",
       "                    Feral                  89\n",
       "                    Pregnant               57\n",
       "                    Medical                43\n",
       "                    Behavior                6\n",
       "Wildlife            Normal               2373\n",
       "                    Sick                 1318\n",
       "                    Injured               841\n",
       "                    Nursing                19\n",
       "                    Other                   4\n",
       "                    Aged                    1\n",
       "                    Feral                   1\n",
       "Name: count, dtype: int64"
      ]
     },
     "execution_count": 196,
     "metadata": {},
     "output_type": "execute_result"
    }
   ],
   "source": [
    "# grouping by intake type and then counting all the values for intake condition\n",
    "intakes_df.groupby('Intake Type')['Intake Condition'].value_counts()"
   ]
  },
  {
   "cell_type": "markdown",
   "metadata": {},
   "source": [
    "#### Q3: What are the 10 most common animal names?"
   ]
  },
  {
   "cell_type": "code",
   "execution_count": 195,
   "metadata": {},
   "outputs": [
    {
     "data": {
      "text/plain": [
       "Name\n",
       "Unknown     35279\n",
       "Max           564\n",
       "Bella         523\n",
       "Luna          494\n",
       "Rocky         383\n",
       "Daisy         365\n",
       "Princess      331\n",
       "Charlie       325\n",
       "Coco          324\n",
       "Buddy         320\n",
       "Lucy          312\n",
       "Blue          304\n",
       "Lola          270\n",
       "Zeus          227\n",
       "Oreo          205\n",
       "Cookie        204\n",
       "Shadow        204\n",
       "Jack          203\n",
       "Sadie         202\n",
       "Bear          202\n",
       "Name: count, dtype: int64"
      ]
     },
     "execution_count": 195,
     "metadata": {},
     "output_type": "execute_result"
    }
   ],
   "source": [
    "# shows us 10 most common, but we want to drop unknown\n",
    "intakes_df['Name'].value_counts().head(10)"
   ]
  },
  {
   "cell_type": "code",
   "execution_count": 197,
   "metadata": {},
   "outputs": [],
   "source": [
    "# dropping unknown values\n",
    "name_counts = intakes_df['Name'].value_counts().drop('Unknown')"
   ]
  },
  {
   "cell_type": "code",
   "execution_count": 198,
   "metadata": {},
   "outputs": [],
   "source": [
    "top_10_names = name_counts.head(10)"
   ]
  },
  {
   "cell_type": "code",
   "execution_count": 209,
   "metadata": {},
   "outputs": [
    {
     "data": {
      "image/png": "[encoded data removed]",
      "text/plain": [
       "<Figure size 640x480 with 1 Axes>"
      ]
     },
     "metadata": {},
     "output_type": "display_data"
    }
   ],
   "source": [
    "# plotting 10 most common names\n",
    "\n",
    "graph = top_10_names.plot(kind='bar', color='blue')\n",
    "\n",
    "for i, v in enumerate(top_10_names):\n",
    "    graph.text(i, v + 0.1, str(v), ha='center', va='bottom')\n",
    "\n",
    "plt.xlabel('Name')\n",
    "plt.ylabel('Count')\n",
    "plt.title('Most Common Names')\n",
    "plt.show()"
   ]
  },
  {
   "cell_type": "markdown",
   "metadata": {},
   "source": [
    "#### Q4: What is the most common month for intakes?"
   ]
  },
  {
   "cell_type": "code",
   "execution_count": 78,
   "metadata": {},
   "outputs": [
    {
     "data": {
      "text/plain": [
       "Date of Intake\n",
       "5     11844\n",
       "6     11559\n",
       "10    11530\n",
       "7     10615\n",
       "9     10493\n",
       "8     10202\n",
       "11     9793\n",
       "3      9106\n",
       "4      9006\n",
       "12     8949\n",
       "1      8912\n",
       "2      8287\n",
       "Name: count, dtype: int64"
      ]
     },
     "execution_count": 78,
     "metadata": {},
     "output_type": "execute_result"
    }
   ],
   "source": [
    "# since we converted column into datetime object we can use some easy methods to answer this question now\n",
    "intakes_df['Date of Intake'].dt.month.value_counts()"
   ]
  },
  {
   "cell_type": "code",
   "execution_count": 242,
   "metadata": {},
   "outputs": [
    {
     "data": {
      "text/plain": [
       "Text(0, 0.5, 'Amount of Intake')"
      ]
     },
     "execution_count": 242,
     "metadata": {},
     "output_type": "execute_result"
    },
    {
     "data": {
      "image/png": "[encoded data removed]",
      "text/plain": [
       "<Figure size 640x480 with 1 Axes>"
      ]
     },
     "metadata": {},
     "output_type": "display_data"
    }
   ],
   "source": [
    "chart = intakes_df['Date of Intake'].dt.month.value_counts().plot.bar(x = 'Month', y='Amount of Intake', color='Blue') # seems like May and June are most popular months for intake\n",
    "chart.set_title('Intake by Month')\n",
    "chart.set_xlabel('Month')\n",
    "chart.set_ylabel('Amount of Intake')"
   ]
  },
  {
   "cell_type": "markdown",
   "metadata": {},
   "source": [
    "#### Lets answer a more complex question. \n",
    "#### Q4: What was the duration of stay in the shelter for each animal?\n",
    "---\n",
    "##### For this we need our outcomes dataset, so let's clean it up real quick before we answer the question."
   ]
  },
  {
   "cell_type": "code",
   "execution_count": 88,
   "metadata": {},
   "outputs": [
    {
     "data": {
      "text/plain": [
       "3684"
      ]
     },
     "execution_count": 88,
     "metadata": {},
     "output_type": "execute_result"
    }
   ],
   "source": [
    "outcomes_df.duplicated(keep=False).sum()"
   ]
  },
  {
   "cell_type": "code",
   "execution_count": 91,
   "metadata": {},
   "outputs": [],
   "source": [
    "outcomes_df.drop_duplicates(inplace=True)"
   ]
  },
  {
   "cell_type": "code",
   "execution_count": 94,
   "metadata": {},
   "outputs": [],
   "source": [
    "outcomes_df['DateTime'] = pd.to_datetime(outcomes_df['DateTime'], format = '%m/%d/%Y %I:%M:%S %p')"
   ]
  },
  {
   "cell_type": "code",
   "execution_count": 104,
   "metadata": {},
   "outputs": [],
   "source": [
    "outcomes_df.rename(columns = {'DateTime':'Date of Outcome'}, inplace=True)"
   ]
  },
  {
   "cell_type": "code",
   "execution_count": 107,
   "metadata": {},
   "outputs": [],
   "source": [
    "outcomes_df.drop(columns='MonthYear', inplace=True)"
   ]
  },
  {
   "cell_type": "code",
   "execution_count": 111,
   "metadata": {},
   "outputs": [],
   "source": [
    "# in order to answer question we need to join both dfs\n",
    "intakes_outcomes_df = intakes_df.join(outcomes_df, how='inner', lsuffix='_intakes', rsuffix='_outcomes')\n"
   ]
  },
  {
   "cell_type": "code",
   "execution_count": 133,
   "metadata": {},
   "outputs": [
    {
     "data": {
      "text/html": [
       "<div>\n",
       "<style scoped>\n",
       "    .dataframe tbody tr th:only-of-type {\n",
       "        vertical-align: middle;\n",
       "    }\n",
       "\n",
       "    .dataframe tbody tr th {\n",
       "        vertical-align: top;\n",
       "    }\n",
       "\n",
       "    .dataframe thead th {\n",
       "        text-align: right;\n",
       "    }\n",
       "</style>\n",
       "<table border=\"1\" class=\"dataframe\">\n",
       "  <thead>\n",
       "    <tr style=\"text-align: right;\">\n",
       "      <th></th>\n",
       "      <th>Name_intakes</th>\n",
       "      <th>Date of Intake</th>\n",
       "      <th>Found Location</th>\n",
       "      <th>Intake Type</th>\n",
       "      <th>Intake Condition</th>\n",
       "      <th>Animal Type_intakes</th>\n",
       "      <th>Sex upon Intake</th>\n",
       "      <th>Age upon Intake</th>\n",
       "      <th>Breed_intakes</th>\n",
       "      <th>Color_intakes</th>\n",
       "      <th>Name_outcomes</th>\n",
       "      <th>Date of Outcome</th>\n",
       "      <th>Date of Birth</th>\n",
       "      <th>Outcome Type</th>\n",
       "      <th>Outcome Subtype</th>\n",
       "      <th>Animal Type_outcomes</th>\n",
       "      <th>Sex upon Outcome</th>\n",
       "      <th>Age upon Outcome</th>\n",
       "      <th>Breed_outcomes</th>\n",
       "      <th>Color_outcomes</th>\n",
       "    </tr>\n",
       "    <tr>\n",
       "      <th>Animal ID</th>\n",
       "      <th></th>\n",
       "      <th></th>\n",
       "      <th></th>\n",
       "      <th></th>\n",
       "      <th></th>\n",
       "      <th></th>\n",
       "      <th></th>\n",
       "      <th></th>\n",
       "      <th></th>\n",
       "      <th></th>\n",
       "      <th></th>\n",
       "      <th></th>\n",
       "      <th></th>\n",
       "      <th></th>\n",
       "      <th></th>\n",
       "      <th></th>\n",
       "      <th></th>\n",
       "      <th></th>\n",
       "      <th></th>\n",
       "      <th></th>\n",
       "    </tr>\n",
       "  </thead>\n",
       "  <tbody>\n",
       "    <tr>\n",
       "      <th>A006100</th>\n",
       "      <td>Scamp</td>\n",
       "      <td>2014-12-19 10:21:00</td>\n",
       "      <td>8700 Research Blvd in Austin (TX)</td>\n",
       "      <td>Public Assist</td>\n",
       "      <td>Normal</td>\n",
       "      <td>Dog</td>\n",
       "      <td>Neutered Male</td>\n",
       "      <td>7 years</td>\n",
       "      <td>Spinone Italiano Mix</td>\n",
       "      <td>Yellow/White</td>\n",
       "      <td>Scamp</td>\n",
       "      <td>2014-12-20 16:35:00</td>\n",
       "      <td>07/09/2007</td>\n",
       "      <td>Return to Owner</td>\n",
       "      <td>NaN</td>\n",
       "      <td>Dog</td>\n",
       "      <td>Neutered Male</td>\n",
       "      <td>7 years</td>\n",
       "      <td>Spinone Italiano Mix</td>\n",
       "      <td>Yellow/White</td>\n",
       "    </tr>\n",
       "  </tbody>\n",
       "</table>\n",
       "</div>"
      ],
      "text/plain": [
       "          Name_intakes      Date of Intake                     Found Location  \\\n",
       "Animal ID                                                                       \n",
       "A006100          Scamp 2014-12-19 10:21:00  8700 Research Blvd in Austin (TX)   \n",
       "\n",
       "             Intake Type Intake Condition Animal Type_intakes Sex upon Intake  \\\n",
       "Animal ID                                                                       \n",
       "A006100    Public Assist           Normal                 Dog   Neutered Male   \n",
       "\n",
       "          Age upon Intake         Breed_intakes Color_intakes Name_outcomes  \\\n",
       "Animal ID                                                                     \n",
       "A006100           7 years  Spinone Italiano Mix  Yellow/White         Scamp   \n",
       "\n",
       "              Date of Outcome Date of Birth     Outcome Type Outcome Subtype  \\\n",
       "Animal ID                                                                      \n",
       "A006100   2014-12-20 16:35:00    07/09/2007  Return to Owner             NaN   \n",
       "\n",
       "          Animal Type_outcomes Sex upon Outcome Age upon Outcome  \\\n",
       "Animal ID                                                          \n",
       "A006100                    Dog    Neutered Male          7 years   \n",
       "\n",
       "                 Breed_outcomes Color_outcomes  \n",
       "Animal ID                                       \n",
       "A006100    Spinone Italiano Mix   Yellow/White  "
      ]
     },
     "execution_count": 133,
     "metadata": {},
     "output_type": "execute_result"
    }
   ],
   "source": [
    "intakes_outcomes_df.head(1)"
   ]
  },
  {
   "cell_type": "code",
   "execution_count": 114,
   "metadata": {},
   "outputs": [
    {
     "data": {
      "text/plain": [
       "(155768, 20)"
      ]
     },
     "execution_count": 114,
     "metadata": {},
     "output_type": "execute_result"
    }
   ],
   "source": [
    "# my joined df has more rows than both dfs used to join, this means that we have duplicate indexes\n",
    "# in the context of our dataset this means that some animals had multiple stays at the shelter which is relevant to our analysis so we can proceed\n",
    "intakes_outcomes_df.shape"
   ]
  },
  {
   "cell_type": "code",
   "execution_count": 137,
   "metadata": {},
   "outputs": [],
   "source": [
    "# lets add a new column, duration of stay\n",
    "# we can calculate duration of stay by subtracting the date of intake from date of outcome\n",
    "\n",
    "intakes_outcomes_df['Duration of Stay'] = (intakes_outcomes_df['Date of Outcome'] - intakes_outcomes_df['Date of Intake'])"
   ]
  },
  {
   "cell_type": "code",
   "execution_count": 140,
   "metadata": {},
   "outputs": [
    {
     "data": {
      "text/html": [
       "<div>\n",
       "<style scoped>\n",
       "    .dataframe tbody tr th:only-of-type {\n",
       "        vertical-align: middle;\n",
       "    }\n",
       "\n",
       "    .dataframe tbody tr th {\n",
       "        vertical-align: top;\n",
       "    }\n",
       "\n",
       "    .dataframe thead th {\n",
       "        text-align: right;\n",
       "    }\n",
       "</style>\n",
       "<table border=\"1\" class=\"dataframe\">\n",
       "  <thead>\n",
       "    <tr style=\"text-align: right;\">\n",
       "      <th></th>\n",
       "      <th>Name_intakes</th>\n",
       "      <th>Date of Intake</th>\n",
       "      <th>Found Location</th>\n",
       "      <th>Intake Type</th>\n",
       "      <th>Intake Condition</th>\n",
       "      <th>Animal Type_intakes</th>\n",
       "      <th>Sex upon Intake</th>\n",
       "      <th>Age upon Intake</th>\n",
       "      <th>Breed_intakes</th>\n",
       "      <th>Color_intakes</th>\n",
       "      <th>...</th>\n",
       "      <th>Date of Outcome</th>\n",
       "      <th>Date of Birth</th>\n",
       "      <th>Outcome Type</th>\n",
       "      <th>Outcome Subtype</th>\n",
       "      <th>Animal Type_outcomes</th>\n",
       "      <th>Sex upon Outcome</th>\n",
       "      <th>Age upon Outcome</th>\n",
       "      <th>Breed_outcomes</th>\n",
       "      <th>Color_outcomes</th>\n",
       "      <th>Duration of Stay</th>\n",
       "    </tr>\n",
       "    <tr>\n",
       "      <th>Animal ID</th>\n",
       "      <th></th>\n",
       "      <th></th>\n",
       "      <th></th>\n",
       "      <th></th>\n",
       "      <th></th>\n",
       "      <th></th>\n",
       "      <th></th>\n",
       "      <th></th>\n",
       "      <th></th>\n",
       "      <th></th>\n",
       "      <th></th>\n",
       "      <th></th>\n",
       "      <th></th>\n",
       "      <th></th>\n",
       "      <th></th>\n",
       "      <th></th>\n",
       "      <th></th>\n",
       "      <th></th>\n",
       "      <th></th>\n",
       "      <th></th>\n",
       "      <th></th>\n",
       "    </tr>\n",
       "  </thead>\n",
       "  <tbody>\n",
       "    <tr>\n",
       "      <th>A006100</th>\n",
       "      <td>Scamp</td>\n",
       "      <td>2014-12-19 10:21:00</td>\n",
       "      <td>8700 Research Blvd in Austin (TX)</td>\n",
       "      <td>Public Assist</td>\n",
       "      <td>Normal</td>\n",
       "      <td>Dog</td>\n",
       "      <td>Neutered Male</td>\n",
       "      <td>7 years</td>\n",
       "      <td>Spinone Italiano Mix</td>\n",
       "      <td>Yellow/White</td>\n",
       "      <td>...</td>\n",
       "      <td>2014-12-20 16:35:00</td>\n",
       "      <td>07/09/2007</td>\n",
       "      <td>Return to Owner</td>\n",
       "      <td>NaN</td>\n",
       "      <td>Dog</td>\n",
       "      <td>Neutered Male</td>\n",
       "      <td>7 years</td>\n",
       "      <td>Spinone Italiano Mix</td>\n",
       "      <td>Yellow/White</td>\n",
       "      <td>1 days 06:14:00</td>\n",
       "    </tr>\n",
       "    <tr>\n",
       "      <th>A006100</th>\n",
       "      <td>Scamp</td>\n",
       "      <td>2014-12-19 10:21:00</td>\n",
       "      <td>8700 Research Blvd in Austin (TX)</td>\n",
       "      <td>Public Assist</td>\n",
       "      <td>Normal</td>\n",
       "      <td>Dog</td>\n",
       "      <td>Neutered Male</td>\n",
       "      <td>7 years</td>\n",
       "      <td>Spinone Italiano Mix</td>\n",
       "      <td>Yellow/White</td>\n",
       "      <td>...</td>\n",
       "      <td>2017-12-07 00:00:00</td>\n",
       "      <td>07/09/2007</td>\n",
       "      <td>Return to Owner</td>\n",
       "      <td>NaN</td>\n",
       "      <td>Dog</td>\n",
       "      <td>Neutered Male</td>\n",
       "      <td>10 years</td>\n",
       "      <td>Spinone Italiano Mix</td>\n",
       "      <td>Yellow/White</td>\n",
       "      <td>1083 days 13:39:00</td>\n",
       "    </tr>\n",
       "    <tr>\n",
       "      <th>A006100</th>\n",
       "      <td>Scamp</td>\n",
       "      <td>2014-12-19 10:21:00</td>\n",
       "      <td>8700 Research Blvd in Austin (TX)</td>\n",
       "      <td>Public Assist</td>\n",
       "      <td>Normal</td>\n",
       "      <td>Dog</td>\n",
       "      <td>Neutered Male</td>\n",
       "      <td>7 years</td>\n",
       "      <td>Spinone Italiano Mix</td>\n",
       "      <td>Yellow/White</td>\n",
       "      <td>...</td>\n",
       "      <td>2014-03-08 17:10:00</td>\n",
       "      <td>07/09/2007</td>\n",
       "      <td>Return to Owner</td>\n",
       "      <td>NaN</td>\n",
       "      <td>Dog</td>\n",
       "      <td>Neutered Male</td>\n",
       "      <td>6 years</td>\n",
       "      <td>Spinone Italiano Mix</td>\n",
       "      <td>Yellow/White</td>\n",
       "      <td>-286 days +06:49:00</td>\n",
       "    </tr>\n",
       "    <tr>\n",
       "      <th>A006100</th>\n",
       "      <td>Scamp</td>\n",
       "      <td>2017-12-07 14:07:00</td>\n",
       "      <td>Colony Creek And Hunters Trace in Austin (TX)</td>\n",
       "      <td>Stray</td>\n",
       "      <td>Normal</td>\n",
       "      <td>Dog</td>\n",
       "      <td>Neutered Male</td>\n",
       "      <td>10 years</td>\n",
       "      <td>Spinone Italiano Mix</td>\n",
       "      <td>Yellow/White</td>\n",
       "      <td>...</td>\n",
       "      <td>2014-12-20 16:35:00</td>\n",
       "      <td>07/09/2007</td>\n",
       "      <td>Return to Owner</td>\n",
       "      <td>NaN</td>\n",
       "      <td>Dog</td>\n",
       "      <td>Neutered Male</td>\n",
       "      <td>7 years</td>\n",
       "      <td>Spinone Italiano Mix</td>\n",
       "      <td>Yellow/White</td>\n",
       "      <td>-1083 days +02:28:00</td>\n",
       "    </tr>\n",
       "    <tr>\n",
       "      <th>A006100</th>\n",
       "      <td>Scamp</td>\n",
       "      <td>2017-12-07 14:07:00</td>\n",
       "      <td>Colony Creek And Hunters Trace in Austin (TX)</td>\n",
       "      <td>Stray</td>\n",
       "      <td>Normal</td>\n",
       "      <td>Dog</td>\n",
       "      <td>Neutered Male</td>\n",
       "      <td>10 years</td>\n",
       "      <td>Spinone Italiano Mix</td>\n",
       "      <td>Yellow/White</td>\n",
       "      <td>...</td>\n",
       "      <td>2017-12-07 00:00:00</td>\n",
       "      <td>07/09/2007</td>\n",
       "      <td>Return to Owner</td>\n",
       "      <td>NaN</td>\n",
       "      <td>Dog</td>\n",
       "      <td>Neutered Male</td>\n",
       "      <td>10 years</td>\n",
       "      <td>Spinone Italiano Mix</td>\n",
       "      <td>Yellow/White</td>\n",
       "      <td>-1 days +09:53:00</td>\n",
       "    </tr>\n",
       "    <tr>\n",
       "      <th>A006100</th>\n",
       "      <td>Scamp</td>\n",
       "      <td>2017-12-07 14:07:00</td>\n",
       "      <td>Colony Creek And Hunters Trace in Austin (TX)</td>\n",
       "      <td>Stray</td>\n",
       "      <td>Normal</td>\n",
       "      <td>Dog</td>\n",
       "      <td>Neutered Male</td>\n",
       "      <td>10 years</td>\n",
       "      <td>Spinone Italiano Mix</td>\n",
       "      <td>Yellow/White</td>\n",
       "      <td>...</td>\n",
       "      <td>2014-03-08 17:10:00</td>\n",
       "      <td>07/09/2007</td>\n",
       "      <td>Return to Owner</td>\n",
       "      <td>NaN</td>\n",
       "      <td>Dog</td>\n",
       "      <td>Neutered Male</td>\n",
       "      <td>6 years</td>\n",
       "      <td>Spinone Italiano Mix</td>\n",
       "      <td>Yellow/White</td>\n",
       "      <td>-1370 days +03:03:00</td>\n",
       "    </tr>\n",
       "    <tr>\n",
       "      <th>A006100</th>\n",
       "      <td>Scamp</td>\n",
       "      <td>2014-03-07 14:26:00</td>\n",
       "      <td>8700 Research in Austin (TX)</td>\n",
       "      <td>Public Assist</td>\n",
       "      <td>Normal</td>\n",
       "      <td>Dog</td>\n",
       "      <td>Neutered Male</td>\n",
       "      <td>6 years</td>\n",
       "      <td>Spinone Italiano Mix</td>\n",
       "      <td>Yellow/White</td>\n",
       "      <td>...</td>\n",
       "      <td>2014-12-20 16:35:00</td>\n",
       "      <td>07/09/2007</td>\n",
       "      <td>Return to Owner</td>\n",
       "      <td>NaN</td>\n",
       "      <td>Dog</td>\n",
       "      <td>Neutered Male</td>\n",
       "      <td>7 years</td>\n",
       "      <td>Spinone Italiano Mix</td>\n",
       "      <td>Yellow/White</td>\n",
       "      <td>288 days 02:09:00</td>\n",
       "    </tr>\n",
       "    <tr>\n",
       "      <th>A006100</th>\n",
       "      <td>Scamp</td>\n",
       "      <td>2014-03-07 14:26:00</td>\n",
       "      <td>8700 Research in Austin (TX)</td>\n",
       "      <td>Public Assist</td>\n",
       "      <td>Normal</td>\n",
       "      <td>Dog</td>\n",
       "      <td>Neutered Male</td>\n",
       "      <td>6 years</td>\n",
       "      <td>Spinone Italiano Mix</td>\n",
       "      <td>Yellow/White</td>\n",
       "      <td>...</td>\n",
       "      <td>2017-12-07 00:00:00</td>\n",
       "      <td>07/09/2007</td>\n",
       "      <td>Return to Owner</td>\n",
       "      <td>NaN</td>\n",
       "      <td>Dog</td>\n",
       "      <td>Neutered Male</td>\n",
       "      <td>10 years</td>\n",
       "      <td>Spinone Italiano Mix</td>\n",
       "      <td>Yellow/White</td>\n",
       "      <td>1370 days 09:34:00</td>\n",
       "    </tr>\n",
       "    <tr>\n",
       "      <th>A006100</th>\n",
       "      <td>Scamp</td>\n",
       "      <td>2014-03-07 14:26:00</td>\n",
       "      <td>8700 Research in Austin (TX)</td>\n",
       "      <td>Public Assist</td>\n",
       "      <td>Normal</td>\n",
       "      <td>Dog</td>\n",
       "      <td>Neutered Male</td>\n",
       "      <td>6 years</td>\n",
       "      <td>Spinone Italiano Mix</td>\n",
       "      <td>Yellow/White</td>\n",
       "      <td>...</td>\n",
       "      <td>2014-03-08 17:10:00</td>\n",
       "      <td>07/09/2007</td>\n",
       "      <td>Return to Owner</td>\n",
       "      <td>NaN</td>\n",
       "      <td>Dog</td>\n",
       "      <td>Neutered Male</td>\n",
       "      <td>6 years</td>\n",
       "      <td>Spinone Italiano Mix</td>\n",
       "      <td>Yellow/White</td>\n",
       "      <td>1 days 02:44:00</td>\n",
       "    </tr>\n",
       "    <tr>\n",
       "      <th>A047759</th>\n",
       "      <td>Oreo</td>\n",
       "      <td>2014-04-02 15:55:00</td>\n",
       "      <td>Austin (TX)</td>\n",
       "      <td>Owner Surrender</td>\n",
       "      <td>Normal</td>\n",
       "      <td>Dog</td>\n",
       "      <td>Neutered Male</td>\n",
       "      <td>10 years</td>\n",
       "      <td>Dachshund</td>\n",
       "      <td>Tricolor</td>\n",
       "      <td>...</td>\n",
       "      <td>2014-04-07 15:12:00</td>\n",
       "      <td>04/02/2004</td>\n",
       "      <td>Transfer</td>\n",
       "      <td>Partner</td>\n",
       "      <td>Dog</td>\n",
       "      <td>Neutered Male</td>\n",
       "      <td>10 years</td>\n",
       "      <td>Dachshund</td>\n",
       "      <td>Tricolor</td>\n",
       "      <td>4 days 23:17:00</td>\n",
       "    </tr>\n",
       "    <tr>\n",
       "      <th>A134067</th>\n",
       "      <td>Bandit</td>\n",
       "      <td>2013-11-16 09:02:00</td>\n",
       "      <td>12034 Research Blvd in Austin (TX)</td>\n",
       "      <td>Public Assist</td>\n",
       "      <td>Injured</td>\n",
       "      <td>Dog</td>\n",
       "      <td>Neutered Male</td>\n",
       "      <td>16 years</td>\n",
       "      <td>Shetland Sheepdog</td>\n",
       "      <td>Brown/White</td>\n",
       "      <td>...</td>\n",
       "      <td>2013-11-16 11:54:00</td>\n",
       "      <td>10/16/1997</td>\n",
       "      <td>Return to Owner</td>\n",
       "      <td>NaN</td>\n",
       "      <td>Dog</td>\n",
       "      <td>Neutered Male</td>\n",
       "      <td>16 years</td>\n",
       "      <td>Shetland Sheepdog</td>\n",
       "      <td>Brown/White</td>\n",
       "      <td>0 days 02:52:00</td>\n",
       "    </tr>\n",
       "    <tr>\n",
       "      <th>A141142</th>\n",
       "      <td>Bettie</td>\n",
       "      <td>2013-11-16 14:46:00</td>\n",
       "      <td>Austin (TX)</td>\n",
       "      <td>Stray</td>\n",
       "      <td>Aged</td>\n",
       "      <td>Dog</td>\n",
       "      <td>Spayed Female</td>\n",
       "      <td>15 years</td>\n",
       "      <td>Labrador Retriever/Pit Bull</td>\n",
       "      <td>Black/White</td>\n",
       "      <td>...</td>\n",
       "      <td>2013-11-17 11:40:00</td>\n",
       "      <td>06/01/1998</td>\n",
       "      <td>Return to Owner</td>\n",
       "      <td>NaN</td>\n",
       "      <td>Dog</td>\n",
       "      <td>Spayed Female</td>\n",
       "      <td>15 years</td>\n",
       "      <td>Labrador Retriever/Pit Bull</td>\n",
       "      <td>Black/White</td>\n",
       "      <td>0 days 20:54:00</td>\n",
       "    </tr>\n",
       "    <tr>\n",
       "      <th>A163459</th>\n",
       "      <td>Sasha</td>\n",
       "      <td>2014-11-14 15:11:00</td>\n",
       "      <td>Ih 35 And 41St St in Austin (TX)</td>\n",
       "      <td>Stray</td>\n",
       "      <td>Normal</td>\n",
       "      <td>Dog</td>\n",
       "      <td>Intact Female</td>\n",
       "      <td>15 years</td>\n",
       "      <td>Miniature Schnauzer Mix</td>\n",
       "      <td>Black/Gray</td>\n",
       "      <td>...</td>\n",
       "      <td>2014-11-14 19:28:00</td>\n",
       "      <td>10/19/1999</td>\n",
       "      <td>Return to Owner</td>\n",
       "      <td>NaN</td>\n",
       "      <td>Dog</td>\n",
       "      <td>Intact Female</td>\n",
       "      <td>15 years</td>\n",
       "      <td>Miniature Schnauzer Mix</td>\n",
       "      <td>Black/Gray</td>\n",
       "      <td>0 days 04:17:00</td>\n",
       "    </tr>\n",
       "    <tr>\n",
       "      <th>A165752</th>\n",
       "      <td>Pep</td>\n",
       "      <td>2014-09-15 11:28:00</td>\n",
       "      <td>Gatlin Gun Rd And Brodie in Austin (TX)</td>\n",
       "      <td>Stray</td>\n",
       "      <td>Normal</td>\n",
       "      <td>Dog</td>\n",
       "      <td>Neutered Male</td>\n",
       "      <td>15 years</td>\n",
       "      <td>Lhasa Apso Mix</td>\n",
       "      <td>Brown/White</td>\n",
       "      <td>...</td>\n",
       "      <td>2014-09-15 16:35:00</td>\n",
       "      <td>08/18/1999</td>\n",
       "      <td>Return to Owner</td>\n",
       "      <td>NaN</td>\n",
       "      <td>Dog</td>\n",
       "      <td>Neutered Male</td>\n",
       "      <td>15 years</td>\n",
       "      <td>Lhasa Apso Mix</td>\n",
       "      <td>Brown/White</td>\n",
       "      <td>0 days 05:07:00</td>\n",
       "    </tr>\n",
       "    <tr>\n",
       "      <th>A169438</th>\n",
       "      <td>Unknown</td>\n",
       "      <td>2018-04-04 20:37:00</td>\n",
       "      <td>Dessau in Austin (TX)</td>\n",
       "      <td>Stray</td>\n",
       "      <td>Normal</td>\n",
       "      <td>Bird</td>\n",
       "      <td>Unknown</td>\n",
       "      <td>18 years</td>\n",
       "      <td>Dove Mix</td>\n",
       "      <td>Gray/White</td>\n",
       "      <td>...</td>\n",
       "      <td>2018-04-04 20:47:00</td>\n",
       "      <td>12/23/1999</td>\n",
       "      <td>Relocate</td>\n",
       "      <td>NaN</td>\n",
       "      <td>Bird</td>\n",
       "      <td>Unknown</td>\n",
       "      <td>18 years</td>\n",
       "      <td>Dove Mix</td>\n",
       "      <td>Gray/White</td>\n",
       "      <td>0 days 00:10:00</td>\n",
       "    </tr>\n",
       "    <tr>\n",
       "      <th>A178569</th>\n",
       "      <td>Boti</td>\n",
       "      <td>2014-03-17 09:45:00</td>\n",
       "      <td>Austin (TX)</td>\n",
       "      <td>Public Assist</td>\n",
       "      <td>Normal</td>\n",
       "      <td>Dog</td>\n",
       "      <td>Neutered Male</td>\n",
       "      <td>15 years</td>\n",
       "      <td>Shetland Sheepdog Mix</td>\n",
       "      <td>White/Black</td>\n",
       "      <td>...</td>\n",
       "      <td>2014-03-23 15:57:00</td>\n",
       "      <td>03/17/1999</td>\n",
       "      <td>Return to Owner</td>\n",
       "      <td>NaN</td>\n",
       "      <td>Dog</td>\n",
       "      <td>Neutered Male</td>\n",
       "      <td>15 years</td>\n",
       "      <td>Shetland Sheepdog Mix</td>\n",
       "      <td>White/Black</td>\n",
       "      <td>6 days 06:12:00</td>\n",
       "    </tr>\n",
       "    <tr>\n",
       "      <th>A189592</th>\n",
       "      <td>Ophelia</td>\n",
       "      <td>2015-09-18 17:46:00</td>\n",
       "      <td>Chesney And Slaughter in Austin (TX)</td>\n",
       "      <td>Stray</td>\n",
       "      <td>Normal</td>\n",
       "      <td>Dog</td>\n",
       "      <td>Spayed Female</td>\n",
       "      <td>18 years</td>\n",
       "      <td>Shetland Sheepdog Mix</td>\n",
       "      <td>Brown/White</td>\n",
       "      <td>...</td>\n",
       "      <td>2015-09-18 19:04:00</td>\n",
       "      <td>08/01/1997</td>\n",
       "      <td>Return to Owner</td>\n",
       "      <td>NaN</td>\n",
       "      <td>Dog</td>\n",
       "      <td>Spayed Female</td>\n",
       "      <td>18 years</td>\n",
       "      <td>Shetland Sheepdog Mix</td>\n",
       "      <td>Brown/White</td>\n",
       "      <td>0 days 01:18:00</td>\n",
       "    </tr>\n",
       "    <tr>\n",
       "      <th>A191351</th>\n",
       "      <td>Bri-Bri</td>\n",
       "      <td>2015-11-13 15:57:00</td>\n",
       "      <td>1912 E William Cannon Rd in Austin (TX)</td>\n",
       "      <td>Stray</td>\n",
       "      <td>Normal</td>\n",
       "      <td>Cat</td>\n",
       "      <td>Intact Female</td>\n",
       "      <td>16 years</td>\n",
       "      <td>Domestic Longhair Mix</td>\n",
       "      <td>Black/White</td>\n",
       "      <td>...</td>\n",
       "      <td>2015-11-17 13:29:00</td>\n",
       "      <td>08/21/1999</td>\n",
       "      <td>Return to Owner</td>\n",
       "      <td>NaN</td>\n",
       "      <td>Cat</td>\n",
       "      <td>Intact Female</td>\n",
       "      <td>16 years</td>\n",
       "      <td>Domestic Longhair Mix</td>\n",
       "      <td>Black/White</td>\n",
       "      <td>3 days 21:32:00</td>\n",
       "    </tr>\n",
       "    <tr>\n",
       "      <th>A197810</th>\n",
       "      <td>Sassafrass</td>\n",
       "      <td>2014-12-08 12:30:00</td>\n",
       "      <td>4616 E Cesar Chavez in Austin (TX)</td>\n",
       "      <td>Stray</td>\n",
       "      <td>Normal</td>\n",
       "      <td>Cat</td>\n",
       "      <td>Spayed Female</td>\n",
       "      <td>14 years</td>\n",
       "      <td>American Shorthair Mix</td>\n",
       "      <td>Brown Tabby/White</td>\n",
       "      <td>...</td>\n",
       "      <td>2014-12-22 15:23:00</td>\n",
       "      <td>01/21/2000</td>\n",
       "      <td>Transfer</td>\n",
       "      <td>Partner</td>\n",
       "      <td>Cat</td>\n",
       "      <td>Spayed Female</td>\n",
       "      <td>14 years</td>\n",
       "      <td>American Shorthair Mix</td>\n",
       "      <td>Brown Tabby/White</td>\n",
       "      <td>14 days 02:53:00</td>\n",
       "    </tr>\n",
       "    <tr>\n",
       "      <th>A200922</th>\n",
       "      <td>Carlos</td>\n",
       "      <td>2013-10-03 15:47:00</td>\n",
       "      <td>Austin (TX)</td>\n",
       "      <td>Owner Surrender</td>\n",
       "      <td>Normal</td>\n",
       "      <td>Dog</td>\n",
       "      <td>Neutered Male</td>\n",
       "      <td>16 years</td>\n",
       "      <td>Dachshund Mix</td>\n",
       "      <td>Black/Tan</td>\n",
       "      <td>...</td>\n",
       "      <td>2013-11-22 09:44:00</td>\n",
       "      <td>10/03/1997</td>\n",
       "      <td>Adoption</td>\n",
       "      <td>Foster</td>\n",
       "      <td>Dog</td>\n",
       "      <td>Neutered Male</td>\n",
       "      <td>16 years</td>\n",
       "      <td>Dachshund Mix</td>\n",
       "      <td>Black/Tan</td>\n",
       "      <td>49 days 17:57:00</td>\n",
       "    </tr>\n",
       "  </tbody>\n",
       "</table>\n",
       "<p>20 rows × 21 columns</p>\n",
       "</div>"
      ],
      "text/plain": [
       "          Name_intakes      Date of Intake  \\\n",
       "Animal ID                                    \n",
       "A006100          Scamp 2014-12-19 10:21:00   \n",
       "A006100          Scamp 2014-12-19 10:21:00   \n",
       "A006100          Scamp 2014-12-19 10:21:00   \n",
       "A006100          Scamp 2017-12-07 14:07:00   \n",
       "A006100          Scamp 2017-12-07 14:07:00   \n",
       "A006100          Scamp 2017-12-07 14:07:00   \n",
       "A006100          Scamp 2014-03-07 14:26:00   \n",
       "A006100          Scamp 2014-03-07 14:26:00   \n",
       "A006100          Scamp 2014-03-07 14:26:00   \n",
       "A047759           Oreo 2014-04-02 15:55:00   \n",
       "A134067         Bandit 2013-11-16 09:02:00   \n",
       "A141142         Bettie 2013-11-16 14:46:00   \n",
       "A163459          Sasha 2014-11-14 15:11:00   \n",
       "A165752            Pep 2014-09-15 11:28:00   \n",
       "A169438        Unknown 2018-04-04 20:37:00   \n",
       "A178569           Boti 2014-03-17 09:45:00   \n",
       "A189592        Ophelia 2015-09-18 17:46:00   \n",
       "A191351        Bri-Bri 2015-11-13 15:57:00   \n",
       "A197810     Sassafrass 2014-12-08 12:30:00   \n",
       "A200922         Carlos 2013-10-03 15:47:00   \n",
       "\n",
       "                                          Found Location      Intake Type  \\\n",
       "Animal ID                                                                   \n",
       "A006100                8700 Research Blvd in Austin (TX)    Public Assist   \n",
       "A006100                8700 Research Blvd in Austin (TX)    Public Assist   \n",
       "A006100                8700 Research Blvd in Austin (TX)    Public Assist   \n",
       "A006100    Colony Creek And Hunters Trace in Austin (TX)            Stray   \n",
       "A006100    Colony Creek And Hunters Trace in Austin (TX)            Stray   \n",
       "A006100    Colony Creek And Hunters Trace in Austin (TX)            Stray   \n",
       "A006100                     8700 Research in Austin (TX)    Public Assist   \n",
       "A006100                     8700 Research in Austin (TX)    Public Assist   \n",
       "A006100                     8700 Research in Austin (TX)    Public Assist   \n",
       "A047759                                      Austin (TX)  Owner Surrender   \n",
       "A134067               12034 Research Blvd in Austin (TX)    Public Assist   \n",
       "A141142                                      Austin (TX)            Stray   \n",
       "A163459                 Ih 35 And 41St St in Austin (TX)            Stray   \n",
       "A165752          Gatlin Gun Rd And Brodie in Austin (TX)            Stray   \n",
       "A169438                            Dessau in Austin (TX)            Stray   \n",
       "A178569                                      Austin (TX)    Public Assist   \n",
       "A189592             Chesney And Slaughter in Austin (TX)            Stray   \n",
       "A191351          1912 E William Cannon Rd in Austin (TX)            Stray   \n",
       "A197810               4616 E Cesar Chavez in Austin (TX)            Stray   \n",
       "A200922                                      Austin (TX)  Owner Surrender   \n",
       "\n",
       "          Intake Condition Animal Type_intakes Sex upon Intake  \\\n",
       "Animal ID                                                        \n",
       "A006100             Normal                 Dog   Neutered Male   \n",
       "A006100             Normal                 Dog   Neutered Male   \n",
       "A006100             Normal                 Dog   Neutered Male   \n",
       "A006100             Normal                 Dog   Neutered Male   \n",
       "A006100             Normal                 Dog   Neutered Male   \n",
       "A006100             Normal                 Dog   Neutered Male   \n",
       "A006100             Normal                 Dog   Neutered Male   \n",
       "A006100             Normal                 Dog   Neutered Male   \n",
       "A006100             Normal                 Dog   Neutered Male   \n",
       "A047759             Normal                 Dog   Neutered Male   \n",
       "A134067            Injured                 Dog   Neutered Male   \n",
       "A141142               Aged                 Dog   Spayed Female   \n",
       "A163459             Normal                 Dog   Intact Female   \n",
       "A165752             Normal                 Dog   Neutered Male   \n",
       "A169438             Normal                Bird         Unknown   \n",
       "A178569             Normal                 Dog   Neutered Male   \n",
       "A189592             Normal                 Dog   Spayed Female   \n",
       "A191351             Normal                 Cat   Intact Female   \n",
       "A197810             Normal                 Cat   Spayed Female   \n",
       "A200922             Normal                 Dog   Neutered Male   \n",
       "\n",
       "          Age upon Intake                Breed_intakes      Color_intakes  \\\n",
       "Animal ID                                                                   \n",
       "A006100           7 years         Spinone Italiano Mix       Yellow/White   \n",
       "A006100           7 years         Spinone Italiano Mix       Yellow/White   \n",
       "A006100           7 years         Spinone Italiano Mix       Yellow/White   \n",
       "A006100          10 years         Spinone Italiano Mix       Yellow/White   \n",
       "A006100          10 years         Spinone Italiano Mix       Yellow/White   \n",
       "A006100          10 years         Spinone Italiano Mix       Yellow/White   \n",
       "A006100           6 years         Spinone Italiano Mix       Yellow/White   \n",
       "A006100           6 years         Spinone Italiano Mix       Yellow/White   \n",
       "A006100           6 years         Spinone Italiano Mix       Yellow/White   \n",
       "A047759          10 years                    Dachshund           Tricolor   \n",
       "A134067          16 years            Shetland Sheepdog        Brown/White   \n",
       "A141142          15 years  Labrador Retriever/Pit Bull        Black/White   \n",
       "A163459          15 years      Miniature Schnauzer Mix         Black/Gray   \n",
       "A165752          15 years               Lhasa Apso Mix        Brown/White   \n",
       "A169438          18 years                     Dove Mix         Gray/White   \n",
       "A178569          15 years        Shetland Sheepdog Mix        White/Black   \n",
       "A189592          18 years        Shetland Sheepdog Mix        Brown/White   \n",
       "A191351          16 years        Domestic Longhair Mix        Black/White   \n",
       "A197810          14 years       American Shorthair Mix  Brown Tabby/White   \n",
       "A200922          16 years                Dachshund Mix          Black/Tan   \n",
       "\n",
       "           ...     Date of Outcome Date of Birth     Outcome Type  \\\n",
       "Animal ID  ...                                                      \n",
       "A006100    ... 2014-12-20 16:35:00    07/09/2007  Return to Owner   \n",
       "A006100    ... 2017-12-07 00:00:00    07/09/2007  Return to Owner   \n",
       "A006100    ... 2014-03-08 17:10:00    07/09/2007  Return to Owner   \n",
       "A006100    ... 2014-12-20 16:35:00    07/09/2007  Return to Owner   \n",
       "A006100    ... 2017-12-07 00:00:00    07/09/2007  Return to Owner   \n",
       "A006100    ... 2014-03-08 17:10:00    07/09/2007  Return to Owner   \n",
       "A006100    ... 2014-12-20 16:35:00    07/09/2007  Return to Owner   \n",
       "A006100    ... 2017-12-07 00:00:00    07/09/2007  Return to Owner   \n",
       "A006100    ... 2014-03-08 17:10:00    07/09/2007  Return to Owner   \n",
       "A047759    ... 2014-04-07 15:12:00    04/02/2004         Transfer   \n",
       "A134067    ... 2013-11-16 11:54:00    10/16/1997  Return to Owner   \n",
       "A141142    ... 2013-11-17 11:40:00    06/01/1998  Return to Owner   \n",
       "A163459    ... 2014-11-14 19:28:00    10/19/1999  Return to Owner   \n",
       "A165752    ... 2014-09-15 16:35:00    08/18/1999  Return to Owner   \n",
       "A169438    ... 2018-04-04 20:47:00    12/23/1999         Relocate   \n",
       "A178569    ... 2014-03-23 15:57:00    03/17/1999  Return to Owner   \n",
       "A189592    ... 2015-09-18 19:04:00    08/01/1997  Return to Owner   \n",
       "A191351    ... 2015-11-17 13:29:00    08/21/1999  Return to Owner   \n",
       "A197810    ... 2014-12-22 15:23:00    01/21/2000         Transfer   \n",
       "A200922    ... 2013-11-22 09:44:00    10/03/1997         Adoption   \n",
       "\n",
       "          Outcome Subtype Animal Type_outcomes Sex upon Outcome  \\\n",
       "Animal ID                                                         \n",
       "A006100               NaN                  Dog    Neutered Male   \n",
       "A006100               NaN                  Dog    Neutered Male   \n",
       "A006100               NaN                  Dog    Neutered Male   \n",
       "A006100               NaN                  Dog    Neutered Male   \n",
       "A006100               NaN                  Dog    Neutered Male   \n",
       "A006100               NaN                  Dog    Neutered Male   \n",
       "A006100               NaN                  Dog    Neutered Male   \n",
       "A006100               NaN                  Dog    Neutered Male   \n",
       "A006100               NaN                  Dog    Neutered Male   \n",
       "A047759           Partner                  Dog    Neutered Male   \n",
       "A134067               NaN                  Dog    Neutered Male   \n",
       "A141142               NaN                  Dog    Spayed Female   \n",
       "A163459               NaN                  Dog    Intact Female   \n",
       "A165752               NaN                  Dog    Neutered Male   \n",
       "A169438               NaN                 Bird          Unknown   \n",
       "A178569               NaN                  Dog    Neutered Male   \n",
       "A189592               NaN                  Dog    Spayed Female   \n",
       "A191351               NaN                  Cat    Intact Female   \n",
       "A197810           Partner                  Cat    Spayed Female   \n",
       "A200922            Foster                  Dog    Neutered Male   \n",
       "\n",
       "          Age upon Outcome               Breed_outcomes     Color_outcomes  \\\n",
       "Animal ID                                                                    \n",
       "A006100            7 years         Spinone Italiano Mix       Yellow/White   \n",
       "A006100           10 years         Spinone Italiano Mix       Yellow/White   \n",
       "A006100            6 years         Spinone Italiano Mix       Yellow/White   \n",
       "A006100            7 years         Spinone Italiano Mix       Yellow/White   \n",
       "A006100           10 years         Spinone Italiano Mix       Yellow/White   \n",
       "A006100            6 years         Spinone Italiano Mix       Yellow/White   \n",
       "A006100            7 years         Spinone Italiano Mix       Yellow/White   \n",
       "A006100           10 years         Spinone Italiano Mix       Yellow/White   \n",
       "A006100            6 years         Spinone Italiano Mix       Yellow/White   \n",
       "A047759           10 years                    Dachshund           Tricolor   \n",
       "A134067           16 years            Shetland Sheepdog        Brown/White   \n",
       "A141142           15 years  Labrador Retriever/Pit Bull        Black/White   \n",
       "A163459           15 years      Miniature Schnauzer Mix         Black/Gray   \n",
       "A165752           15 years               Lhasa Apso Mix        Brown/White   \n",
       "A169438           18 years                     Dove Mix         Gray/White   \n",
       "A178569           15 years        Shetland Sheepdog Mix        White/Black   \n",
       "A189592           18 years        Shetland Sheepdog Mix        Brown/White   \n",
       "A191351           16 years        Domestic Longhair Mix        Black/White   \n",
       "A197810           14 years       American Shorthair Mix  Brown Tabby/White   \n",
       "A200922           16 years                Dachshund Mix          Black/Tan   \n",
       "\n",
       "              Duration of Stay  \n",
       "Animal ID                       \n",
       "A006100        1 days 06:14:00  \n",
       "A006100     1083 days 13:39:00  \n",
       "A006100    -286 days +06:49:00  \n",
       "A006100   -1083 days +02:28:00  \n",
       "A006100      -1 days +09:53:00  \n",
       "A006100   -1370 days +03:03:00  \n",
       "A006100      288 days 02:09:00  \n",
       "A006100     1370 days 09:34:00  \n",
       "A006100        1 days 02:44:00  \n",
       "A047759        4 days 23:17:00  \n",
       "A134067        0 days 02:52:00  \n",
       "A141142        0 days 20:54:00  \n",
       "A163459        0 days 04:17:00  \n",
       "A165752        0 days 05:07:00  \n",
       "A169438        0 days 00:10:00  \n",
       "A178569        6 days 06:12:00  \n",
       "A189592        0 days 01:18:00  \n",
       "A191351        3 days 21:32:00  \n",
       "A197810       14 days 02:53:00  \n",
       "A200922       49 days 17:57:00  \n",
       "\n",
       "[20 rows x 21 columns]"
      ]
     },
     "execution_count": 140,
     "metadata": {},
     "output_type": "execute_result"
    }
   ],
   "source": [
    "# if you look at our new column you notice we have some (-) values for days, these don't make sense and we should delete them\n",
    "intakes_outcomes_df.head(20)"
   ]
  },
  {
   "cell_type": "code",
   "execution_count": 147,
   "metadata": {},
   "outputs": [],
   "source": [
    "# lets define a funtion that can deal with this \n",
    "\n",
    "def has_negative(value):\n",
    "    if '-' not in str(value):\n",
    "        return value\n",
    "    else:\n",
    "        return None"
   ]
  },
  {
   "cell_type": "code",
   "execution_count": 152,
   "metadata": {},
   "outputs": [],
   "source": [
    "intakes_outcomes_df['Duration of Stay'] = intakes_outcomes_df['Duration of Stay'].apply(has_negative)"
   ]
  },
  {
   "cell_type": "code",
   "execution_count": 157,
   "metadata": {},
   "outputs": [
    {
     "data": {
      "text/plain": [
       "Animal ID\n",
       "A006100      1 days 06:14:00\n",
       "A006100   1083 days 13:39:00\n",
       "A006100                  NaT\n",
       "A006100                  NaT\n",
       "A006100                  NaT\n",
       "                 ...        \n",
       "A830112      0 days 00:49:00\n",
       "A830114      0 days 00:17:00\n",
       "A830138      0 days 01:03:00\n",
       "A830156      0 days 01:18:00\n",
       "A830164      0 days 00:11:00\n",
       "Name: Duration of Stay, Length: 155768, dtype: timedelta64[ns]"
      ]
     },
     "execution_count": 157,
     "metadata": {},
     "output_type": "execute_result"
    }
   ],
   "source": [
    "intakes_outcomes_df['Duration of Stay'] # funtion worked as intended"
   ]
  },
  {
   "cell_type": "code",
   "execution_count": 166,
   "metadata": {},
   "outputs": [
    {
     "data": {
      "text/plain": [
       "Animal ID\n",
       "A006100      1 days 06:14:00\n",
       "A006100   1083 days 13:39:00\n",
       "A006100                  NaT\n",
       "A006100                  NaT\n",
       "A006100                  NaT\n",
       "A006100                  NaT\n",
       "A006100    288 days 02:09:00\n",
       "A006100   1370 days 09:34:00\n",
       "A006100      1 days 02:44:00\n",
       "A047759      4 days 23:17:00\n",
       "A134067      0 days 02:52:00\n",
       "A141142      0 days 20:54:00\n",
       "A163459      0 days 04:17:00\n",
       "A165752      0 days 05:07:00\n",
       "A169438      0 days 00:10:00\n",
       "A178569      6 days 06:12:00\n",
       "A189592      0 days 01:18:00\n",
       "A191351      3 days 21:32:00\n",
       "A197810     14 days 02:53:00\n",
       "A200922     49 days 17:57:00\n",
       "Name: Duration of Stay, dtype: timedelta64[ns]"
      ]
     },
     "execution_count": 166,
     "metadata": {},
     "output_type": "execute_result"
    }
   ],
   "source": [
    "# we now have a column that shows us the duration of day for each animal id\n",
    "intakes_outcomes_df['Duration of Stay'].head(20)"
   ]
  },
  {
   "cell_type": "code",
   "execution_count": 167,
   "metadata": {},
   "outputs": [
    {
     "data": {
      "text/plain": [
       "count                         136803\n",
       "mean      60 days 19:54:22.856516306\n",
       "std      186 days 15:02:48.081640910\n",
       "min                  0 days 00:00:00\n",
       "25%                  2 days 07:07:00\n",
       "50%                  6 days 23:53:00\n",
       "75%                 32 days 23:12:00\n",
       "max               2553 days 05:31:00\n",
       "Name: Duration of Stay, dtype: object"
      ]
     },
     "execution_count": 167,
     "metadata": {},
     "output_type": "execute_result"
    }
   ],
   "source": [
    "# we can see dive deeper and see some interesting statistics about the duration of stay, such as the median stay being 6 days\n",
    "# this perhaps indicates that a lot of animals are returned back to owners, lets explore this\n",
    "intakes_outcomes_df['Duration of Stay'].describe()"
   ]
  },
  {
   "cell_type": "code",
   "execution_count": 170,
   "metadata": {},
   "outputs": [
    {
     "data": {
      "text/plain": [
       "Outcome Type\n",
       "Adoption           71664\n",
       "Transfer           36826\n",
       "Return to Owner    35927\n",
       "Euthanasia          8296\n",
       "Rto-Adopt           1325\n",
       "Died                1091\n",
       "Disposal             499\n",
       "Missing               92\n",
       "Relocate              21\n",
       "Name: count, dtype: int64"
      ]
     },
     "execution_count": 170,
     "metadata": {},
     "output_type": "execute_result"
    }
   ],
   "source": [
    "# we can see a count of each outcome type but lets group then and get the duration of stay associated with each type\n",
    "intakes_outcomes_df['Outcome Type'].value_counts()"
   ]
  },
  {
   "cell_type": "code",
   "execution_count": 171,
   "metadata": {},
   "outputs": [],
   "source": [
    "# grouping the df by outcome type, so we can explore the median times associated with the three most common outcome types\n",
    "outcome_type_group = intakes_outcomes_df.groupby('Outcome Type')"
   ]
  },
  {
   "cell_type": "code",
   "execution_count": 186,
   "metadata": {},
   "outputs": [
    {
     "data": {
      "text/plain": [
       "Timedelta('1 days 05:56:00')"
      ]
     },
     "execution_count": 186,
     "metadata": {},
     "output_type": "execute_result"
    }
   ],
   "source": [
    "# median time it takes for animal to be returned to owner\n",
    "outcome_type_group['Duration of Stay'].median().loc['Return to Owner']\n",
    "                                                                                "
   ]
  },
  {
   "cell_type": "code",
   "execution_count": 187,
   "metadata": {},
   "outputs": [
    {
     "data": {
      "text/plain": [
       "Timedelta('10 days 08:21:00')"
      ]
     },
     "execution_count": 187,
     "metadata": {},
     "output_type": "execute_result"
    }
   ],
   "source": [
    "# median time it takes for animal to be adopted\n",
    "outcome_type_group['Duration of Stay'].median().loc['Adoption']"
   ]
  },
  {
   "cell_type": "code",
   "execution_count": 188,
   "metadata": {},
   "outputs": [
    {
     "data": {
      "text/plain": [
       "Timedelta('4 days 06:19:00')"
      ]
     },
     "execution_count": 188,
     "metadata": {},
     "output_type": "execute_result"
    }
   ],
   "source": [
    "# median time it takes for animal to be transfered\n",
    "\n",
    "outcome_type_group['Duration of Stay'].median().loc['Transfer']"
   ]
  },
  {
   "cell_type": "markdown",
   "metadata": {},
   "source": [
    "#### As always there is a lot more we could explore, but I just wanted to answer a couple questions about this dataset to showcase some skills. I hope you enjoyed my exploratory analysis of this particular animal shelter. Thanks :)"
   ]
  }
 ],
 "metadata": {
  "kernelspec": {
   "display_name": "Python 3",
   "language": "python",
   "name": "python3"
  },
  "language_info": {
   "codemirror_mode": {
    "name": "ipython",
    "version": 3
   },
   "file_extension": ".py",
   "mimetype": "text/x-python",
   "name": "python",
   "nbconvert_exporter": "python",
   "pygments_lexer": "ipython3",
   "version": "3.11.4"
  }
 },
 "nbformat": 4,
 "nbformat_minor": 2
}
